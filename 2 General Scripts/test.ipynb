{
 "cells": [
  {
   "cell_type": "code",
   "execution_count": 1,
   "metadata": {},
   "outputs": [
    {
     "name": "stdout",
     "output_type": "stream",
     "text": [
      "4 3 2 1\n"
     ]
    }
   ],
   "source": [
    "#return multiple values from functions\n",
    "def x():\n",
    "    return 4,3,2,1\n",
    "a, b, c, d = x()\n",
    "\n",
    "print(a,b,c,d)"
   ]
  },
  {
   "cell_type": "code",
   "execution_count": 3,
   "metadata": {},
   "outputs": [
    {
     "name": "stdout",
     "output_type": "stream",
     "text": [
      "['Great Sword', 'Axe', 'Stick']\n"
     ]
    }
   ],
   "source": [
    "#sorting by dictionary code using python sorted method\n",
    "inventory = ['Axe', 'Great Sword', 'Stick']\n",
    "\n",
    "rarity = {\n",
    "    'Great Sword':98,\n",
    "    'Golden Bow':97,\n",
    "    'Iron Sword': 80,\n",
    "    'Axe':34,\n",
    "    'Stick': 1\n",
    "}\n",
    "\n",
    "sort_inv = sorted(inventory, key=rarity.__getitem__, reverse=True)\n",
    "\n",
    "print(sort_inv)"
   ]
  },
  {
   "cell_type": "code",
   "execution_count": 4,
   "metadata": {},
   "outputs": [
    {
     "name": "stdout",
     "output_type": "stream",
     "text": [
      "[('Steve', 9.3), ('Mark', 7.44), ('Chris', 17.67)]\n"
     ]
    }
   ],
   "source": [
    "#using map to apply a function to a list\n",
    "citizens = [('Steve', 10), ('Mark', 8), ('Chris', 19)]\n",
    "\n",
    "def tax(citizen):\n",
    "    name = citizen[0]\n",
    "    taxed_balance = citizen[1]*0.93\n",
    "    return(name, taxed_balance)\n",
    "\n",
    "# taxed_citizens = []\n",
    "# for citizen in citizens:\n",
    "#     taxed_citizen = tax(citizen)\n",
    "#     taxed_citizens.append(taxed_citizen)\n",
    "## The entire piece of code is replaced by map function below\n",
    "\n",
    "taxed_citizens = list(map(tax, citizens)) \n",
    "print(taxed_citizens)"
   ]
  },
  {
   "cell_type": "code",
   "execution_count": 1,
   "metadata": {},
   "outputs": [
    {
     "name": "stdout",
     "output_type": "stream",
     "text": [
      "48\n",
      "856\n"
     ]
    }
   ],
   "source": [
    "from sys import getsizeof\n",
    "\n",
    "n_range = range(100)\n",
    "n_list = list(range(100))\n",
    "\n",
    "print(getsizeof(n_range))\n",
    "print(getsizeof(n_list))"
   ]
  },
  {
   "cell_type": "code",
   "execution_count": 1,
   "metadata": {},
   "outputs": [
    {
     "name": "stdout",
     "output_type": "stream",
     "text": [
      "[[37 40]\n",
      " [85 92]]\n"
     ]
    },
    {
     "data": {
      "text/plain": [
       "array([[37, 40],\n",
       "       [85, 92]])"
      ]
     },
     "execution_count": 1,
     "metadata": {},
     "output_type": "execute_result"
    }
   ],
   "source": [
    "#multiplication of matrix\n",
    "import numpy as np\n",
    "\n",
    "a = np.array([[1, 2], [3, 4]])\n",
    "b = np.array([[11, 12], [13, 14]])\n",
    "\n",
    "print(a@b)\n",
    "np.dot(a,b)"
   ]
  },
  {
   "cell_type": "code",
   "execution_count": 2,
   "metadata": {},
   "outputs": [
    {
     "name": "stdout",
     "output_type": "stream",
     "text": [
      "{'John': 4, 'Jonah': 5, 'Jeff': 4, 'Nick': 4}\n"
     ]
    }
   ],
   "source": [
    "#dict comprehension\n",
    "names = ['John', 'Jonah', 'Jeff', 'Nick']\n",
    "\n",
    "dict_ = {name: len(name) for name in names}\n",
    "\n",
    "print(dict_)"
   ]
  },
  {
   "cell_type": "code",
   "execution_count": 2,
   "metadata": {},
   "outputs": [
    {
     "name": "stdout",
     "output_type": "stream",
     "text": [
      "[1, 3, 5, 7, 9]\n",
      "[10, 8, 6, 4, 2]\n"
     ]
    }
   ],
   "source": [
    "#list indexing\n",
    "a = [1, 2, 3, 4, 5, 6, 7, 8, 9, 10]\n",
    "b = a[::2]\n",
    "c = a[::-2]\n",
    "print(b)\n",
    "print(c)"
   ]
  },
  {
   "cell_type": "code",
   "execution_count": 2,
   "metadata": {},
   "outputs": [
    {
     "name": "stdout",
     "output_type": "stream",
     "text": [
      "Hi\n",
      "!!!!!!!!Hi\n",
      "!!!!Hi!!!!\n"
     ]
    }
   ],
   "source": [
    "#interesting print tricks\n",
    "a = 'Hi'\n",
    "print(f'{a}')\n",
    "print(f'{a:!>10}')\n",
    "print(f'{a:!^10}')"
   ]
  },
  {
   "cell_type": "code",
   "execution_count": 3,
   "metadata": {},
   "outputs": [
    {
     "name": "stdout",
     "output_type": "stream",
     "text": [
      "[11, 13, 17, 19, 23, 29, 31, 37, 41, 43, 47, 53, 59, 61, 67, 71, 73, 79, 83, 89, 97]\n"
     ]
    }
   ],
   "source": [
    "#prime numbers in a range\n",
    "def get_prime(lowerlm, upperlm):\n",
    "    prime_list = []\n",
    "    for num in range(lowerlm, upperlm + 1):\n",
    "        flag = False\n",
    "        if num > 1:\n",
    "            # check for factors\n",
    "            for i in range(2, num):\n",
    "                if (num % i) == 0:\n",
    "                    # if factor is found, set flag to True\n",
    "                    flag = True\n",
    "                    # break out of loop\n",
    "                    break\n",
    "        if not flag:\n",
    "            prime_list.append(num)\n",
    "    print(prime_list)\n",
    "\n",
    "get_prime(10, 100)"
   ]
  },
  {
   "cell_type": "code",
   "execution_count": 9,
   "metadata": {},
   "outputs": [
    {
     "name": "stdout",
     "output_type": "stream",
     "text": [
      "xjhwjy5yj2y5rjxxflj\n"
     ]
    }
   ],
   "source": [
    "## Encryption by b001\n",
    "# message to be encrypted/decrypted\n",
    "inputText = 'secret text message'\n",
    "# encryption/decryption key\n",
    "key = 5\n",
    "# encrypt or decrypt\n",
    "mode = 'encrypt'\n",
    "# ledger\n",
    "ledger = 'abcdefghijklmnopqrstuvwxyz 1234567890 !@#$%^&*()'\n",
    "# output message\n",
    "outputText = ''\n",
    "\n",
    "for char in inputText:\n",
    "    # find the index of the character in ledger\n",
    "    inputIndex = ledger.find(char)\n",
    "    # perform encryption/decryption\n",
    "    if mode == 'encrypt':\n",
    "        outputIndex = inputIndex + key\n",
    "    elif mode == 'decrypt':\n",
    "        outputIndex = inputIndex - key\n",
    "    # handle wraparound\n",
    "    if outputIndex >= len(ledger):\n",
    "        outputIndex = outputIndex - len(ledger)\n",
    "    elif outputIndex < 0:\n",
    "        outputIndex = outputIndex + len(ledger)\n",
    "    # output\n",
    "    outputText = outputText + ledger[outputIndex]\n",
    "\n",
    "print(outputText)"
   ]
  },
  {
   "cell_type": "code",
   "execution_count": 1,
   "metadata": {},
   "outputs": [
    {
     "name": "stdout",
     "output_type": "stream",
     "text": [
      "10 | [1, 2, 4, 8, 16, 32, 64, 128, 256, 512]\n"
     ]
    }
   ],
   "source": [
    "\n",
    "#\n",
    "def count_life(keys):\n",
    "    list_numbers = [1]\n",
    "\n",
    "    #loop through list and multiply the last element by 2\n",
    "    while list_numbers[-1] <= keys:\n",
    "        i = list_numbers[-1]*2\n",
    "        list_numbers.append(i)\n",
    "\n",
    "    #Print the Numbers\n",
    "    list_numbers = list_numbers[:-1]\n",
    "    print(len(list_numbers), \"|\", list_numbers)\n",
    "\n",
    "count_life(1000)"
   ]
  },
  {
   "cell_type": "code",
   "execution_count": null,
   "metadata": {},
   "outputs": [],
   "source": []
  }
 ],
 "metadata": {
  "kernelspec": {
   "display_name": "Python 3.9.13 64-bit",
   "language": "python",
   "name": "python3"
  },
  "language_info": {
   "codemirror_mode": {
    "name": "ipython",
    "version": 3
   },
   "file_extension": ".py",
   "mimetype": "text/x-python",
   "name": "python",
   "nbconvert_exporter": "python",
   "pygments_lexer": "ipython3",
   "version": "3.9.13"
  },
  "orig_nbformat": 4,
  "vscode": {
   "interpreter": {
    "hash": "444d05d3491f93f5b17412671d068b195a3e37c936f545933611371140ad11e9"
   }
  }
 },
 "nbformat": 4,
 "nbformat_minor": 2
}
