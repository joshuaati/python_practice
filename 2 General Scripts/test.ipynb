{
 "cells": [
  {
   "cell_type": "code",
   "execution_count": 1,
   "metadata": {},
   "outputs": [
    {
     "name": "stdout",
     "output_type": "stream",
     "text": [
      "4 3 2 1\n"
     ]
    }
   ],
   "source": [
    "#return multiple values from functions\n",
    "def x():\n",
    "    return 4,3,2,1\n",
    "a, b, c, d = x()\n",
    "\n",
    "print(a,b,c,d)"
   ]
  },
  {
   "cell_type": "code",
   "execution_count": 3,
   "metadata": {},
   "outputs": [
    {
     "name": "stdout",
     "output_type": "stream",
     "text": [
      "['Great Sword', 'Axe', 'Stick']\n"
     ]
    }
   ],
   "source": [
    "#sorting by dictionary code using python sorted method\n",
    "inventory = ['Axe', 'Great Sword', 'Stick']\n",
    "\n",
    "rarity = {\n",
    "    'Great Sword':98,\n",
    "    'Golden Bow':97,\n",
    "    'Iron Sword': 80,\n",
    "    'Axe':34,\n",
    "    'Stick': 1\n",
    "}\n",
    "\n",
    "sort_inv = sorted(inventory, \n",
    "                    key=rarity.__getitem__, reverse=True)\n",
    "\n",
    "print(sort_inv)"
   ]
  },
  {
   "cell_type": "code",
   "execution_count": null,
   "metadata": {},
   "outputs": [],
   "source": []
  }
 ],
 "metadata": {
  "kernelspec": {
   "display_name": "Python 3.9.13 64-bit",
   "language": "python",
   "name": "python3"
  },
  "language_info": {
   "codemirror_mode": {
    "name": "ipython",
    "version": 3
   },
   "file_extension": ".py",
   "mimetype": "text/x-python",
   "name": "python",
   "nbconvert_exporter": "python",
   "pygments_lexer": "ipython3",
   "version": "3.9.13"
  },
  "orig_nbformat": 4,
  "vscode": {
   "interpreter": {
    "hash": "444d05d3491f93f5b17412671d068b195a3e37c936f545933611371140ad11e9"
   }
  }
 },
 "nbformat": 4,
 "nbformat_minor": 2
}
