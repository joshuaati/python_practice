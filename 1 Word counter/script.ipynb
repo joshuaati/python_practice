{
 "cells": [
  {
   "cell_type": "code",
   "execution_count": 29,
   "metadata": {},
   "outputs": [
    {
     "name": "stdout",
     "output_type": "stream",
     "text": [
      "[('policies', 62), ('Human', 57), ('HR', 52), ('policy', 51), ('employee', 42), ('human', 41), ('Resource', 40), ('performance', 40), ('â€¢', 40), ('resource', 37), ('Employee', 35), ('organization', 31), ('Policies', 30), ('employees', 29), ('Performance', 27), ('Policy', 26), ('they', 25), ('should', 23), ('Management', 21), ('Journal', 21)]\n"
     ]
    }
   ],
   "source": [
    "from collections import Counter\n",
    "\n",
    "iglist=['the', 'and', 'of', 'to', 'in', 'a', 'that','The', 'on', 'is', 'as', '&', 'for', 'an', 'be', 'or', 'at', 'it', 'are', 'this', 'from', 'their', 'with', 'by', 'has']\n",
    "words = []\n",
    "\n",
    "with open('project.txt', 'r') as file:\n",
    "    for line in file:\n",
    "        words.extend(line.split())\n",
    "\n",
    "count = Counter(words)\n",
    "\n",
    "for words in iglist:\n",
    "    del count[words]\n",
    "\n",
    "\n",
    "top20 = count.most_common(20)\n",
    "print(top20)\n"
   ]
  },
  {
   "cell_type": "code",
   "execution_count": null,
   "metadata": {},
   "outputs": [],
   "source": []
  }
 ],
 "metadata": {
  "kernelspec": {
   "display_name": "Python 3.9.13 64-bit",
   "language": "python",
   "name": "python3"
  },
  "language_info": {
   "codemirror_mode": {
    "name": "ipython",
    "version": 3
   },
   "file_extension": ".py",
   "mimetype": "text/x-python",
   "name": "python",
   "nbconvert_exporter": "python",
   "pygments_lexer": "ipython3",
   "version": "3.9.13"
  },
  "orig_nbformat": 4,
  "vscode": {
   "interpreter": {
    "hash": "444d05d3491f93f5b17412671d068b195a3e37c936f545933611371140ad11e9"
   }
  }
 },
 "nbformat": 4,
 "nbformat_minor": 2
}
